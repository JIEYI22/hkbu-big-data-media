{
 "cells": [
  {
   "cell_type": "code",
   "execution_count": 2,
   "metadata": {},
   "outputs": [],
   "source": [
    "import requests\n",
    "import bs4\n",
    "import csv\n",
    "from bs4 import BeautifulSoup"
   ]
  },
  {
   "cell_type": "code",
   "execution_count": 25,
   "metadata": {},
   "outputs": [],
   "source": [
    "def get_the_page(url):  \n",
    "    r=requests.get(url)\n",
    "    mypage=BeautifulSoup(r.text)\n",
    "\n",
    "    myspot=mypage.find_all('div',attrs={'class':'rdetailbox'})\n",
    "    locations=[]\n",
    "    for location in myspot:\n",
    "        myl=location.find('a')\n",
    "        locations.append(myl.text)\n",
    "\n",
    "    myscores=mypage.find_all('ul',attrs={'class':'r_comment'})\n",
    "    scores=[]\n",
    "    for score in myscores:\n",
    "        myscore=score.find('strong')\n",
    "        scores.append(myscore.text)\n",
    "\n",
    "\n",
    "    gps=mypage.find_all('dd',attrs={'class':'ellipsis'})\n",
    "    GPS=[]\n",
    "    for GPSs in gps:\n",
    "        GPS.append(GPSs.text)\n",
    "    \n",
    "    page_content=[]\n",
    "    for i in range (0,len(locations)):\n",
    "        page_content.append([locations[i],scores[i],GPS[i]])\n",
    "    \n",
    "    return page_content"
   ]
  },
  {
   "cell_type": "code",
   "execution_count": 32,
   "metadata": {},
   "outputs": [],
   "source": [
    "url_list=[]\n",
    "for i in range(0,50):\n",
    "    page_number=str(i+1)\n",
    "    url = 'http://you.ctrip.com/sight/chengdu104/s0-p' + page_number +'.html'\n",
    "    url_list.append(url)"
   ]
  },
  {
   "cell_type": "code",
   "execution_count": 39,
   "metadata": {},
   "outputs": [
    {
     "name": "stderr",
     "output_type": "stream",
     "text": [
      "/Users/marla/Desktop/marla322/venv/lib/python3.6/site-packages/bs4/__init__.py:181: UserWarning: No parser was explicitly specified, so I'm using the best available HTML parser for this system (\"html5lib\"). This usually isn't a problem, but if you run this code on another system, or in a different virtual environment, it may use a different parser and behave differently.\n",
      "\n",
      "The code that caused this warning is on line 193 of the file /Library/Frameworks/Python.framework/Versions/3.6/lib/python3.6/runpy.py. To get rid of this warning, change code that looks like this:\n",
      "\n",
      " BeautifulSoup(YOUR_MARKUP})\n",
      "\n",
      "to this:\n",
      "\n",
      " BeautifulSoup(YOUR_MARKUP, \"html5lib\")\n",
      "\n",
      "  markup_type=markup_type))\n"
     ]
    }
   ],
   "source": [
    "information=[]\n",
    "for spot in url_list:\n",
    "    my=get_the_page(spot)\n",
    "    information.extend(my)"
   ]
  },
  {
   "cell_type": "code",
   "execution_count": 47,
   "metadata": {},
   "outputs": [],
   "source": [
    "with open('chengdupages.csv', 'w', newline='') as csvfile:\n",
    "    spamwriter = csv.writer(csvfile, delimiter=',',\n",
    "                            quotechar='\"', quoting=csv.QUOTE_MINIMAL)\n",
    "    header= ['spot','rank','satellite']\n",
    "    spamwriter.writerow(header)\n",
    "    spamwriter.writerows(information)"
   ]
  }
 ],
 "metadata": {
  "kernelspec": {
   "display_name": "Python 3",
   "language": "python",
   "name": "python3"
  },
  "language_info": {
   "codemirror_mode": {
    "name": "ipython",
    "version": 3
   },
   "file_extension": ".py",
   "mimetype": "text/x-python",
   "name": "python",
   "nbconvert_exporter": "python",
   "pygments_lexer": "ipython3",
   "version": "3.6.4"
  }
 },
 "nbformat": 4,
 "nbformat_minor": 2
}
